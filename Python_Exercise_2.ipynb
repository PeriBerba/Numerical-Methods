{
  "nbformat": 4,
  "nbformat_minor": 0,
  "metadata": {
    "colab": {
      "name": "Python Exercise 2",
      "provenance": [],
      "collapsed_sections": [],
      "authorship_tag": "ABX9TyMGBCduZdr17hUL8cfcgO1R",
      "include_colab_link": true
    },
    "kernelspec": {
      "name": "python3",
      "display_name": "Python 3"
    },
    "language_info": {
      "name": "python"
    }
  },
  "cells": [
    {
      "cell_type": "markdown",
      "metadata": {
        "id": "view-in-github",
        "colab_type": "text"
      },
      "source": [
        "<a href=\"https://colab.research.google.com/github/PeriBerba/Numerical-Methods/blob/main/Python_Exercise_2.ipynb\" target=\"_parent\"><img src=\"https://colab.research.google.com/assets/colab-badge.svg\" alt=\"Open In Colab\"/></a>"
      ]
    },
    {
      "cell_type": "markdown",
      "metadata": {
        "id": "VgiyHesbh6Ub"
      },
      "source": [
        "#Matrix and Its Operations\n"
      ]
    },
    {
      "cell_type": "markdown",
      "metadata": {
        "id": "AZYHrC0giBoL"
      },
      "source": [
        "PERI JULIAN BERBA\n",
        "\n",
        "\n"
      ]
    },
    {
      "cell_type": "markdown",
      "metadata": {
        "id": "t264ZNWoiMwC"
      },
      "source": [
        "201911370\n"
      ]
    },
    {
      "cell_type": "markdown",
      "metadata": {
        "id": "7kgkultPboJu"
      },
      "source": [
        "#Addition\n"
      ]
    },
    {
      "cell_type": "code",
      "metadata": {
        "colab": {
          "base_uri": "https://localhost:8080/"
        },
        "id": "TkIZFyXjbXiS",
        "outputId": "abdf3720-da68-4f32-eec9-6bb845336cc8"
      },
      "source": [
        "import numpy as np\n",
        "A = np.array([\n",
        "    [-5,0],\n",
        "    [4,1],\n",
        "])\n",
        "B = np.array([\n",
        "    [6,-3],\n",
        "    [2,3],\n",
        "])\n",
        "print (A+B)"
      ],
      "execution_count": 19,
      "outputs": [
        {
          "output_type": "stream",
          "name": "stdout",
          "text": [
            "[[ 1 -3]\n",
            " [ 6  4]]\n"
          ]
        }
      ]
    },
    {
      "cell_type": "markdown",
      "metadata": {
        "id": "74FS608pdfJc"
      },
      "source": [
        "#Subtraction\n"
      ]
    },
    {
      "cell_type": "code",
      "metadata": {
        "colab": {
          "base_uri": "https://localhost:8080/"
        },
        "id": "AFaGfEZod62E",
        "outputId": "5361ef4d-a1ba-4590-9606-6a3baf0adb86"
      },
      "source": [
        "import numpy as np\n",
        "B = np.array([\n",
        "    [6,-3],\n",
        "    [2,3],\n",
        "])\n",
        "A = np.array([\n",
        "    [-5,0],\n",
        "    [4,1],\n",
        "])\n",
        "print (B-A)"
      ],
      "execution_count": 21,
      "outputs": [
        {
          "output_type": "stream",
          "name": "stdout",
          "text": [
            "[[11 -3]\n",
            " [-2  2]]\n"
          ]
        }
      ]
    },
    {
      "cell_type": "code",
      "metadata": {
        "colab": {
          "base_uri": "https://localhost:8080/"
        },
        "id": "1ogqZAeie_wU",
        "outputId": "33a72733-ccb8-48e0-8325-5846cd93f098"
      },
      "source": [
        "import numpy as np\n",
        "A = np.array([\n",
        "    [-5,0],\n",
        "    [4,1],\n",
        "])\n",
        "B = np.array([\n",
        "    [6,-3],\n",
        "    [2,3],\n",
        "])\n",
        "print (A-B)"
      ],
      "execution_count": 20,
      "outputs": [
        {
          "output_type": "stream",
          "name": "stdout",
          "text": [
            "[[-11   3]\n",
            " [  2  -2]]\n"
          ]
        }
      ]
    }
  ]
}