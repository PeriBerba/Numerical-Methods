{
  "nbformat": 4,
  "nbformat_minor": 0,
  "metadata": {
    "colab": {
      "name": "Demo 1",
      "provenance": [],
      "include_colab_link": true
    },
    "kernelspec": {
      "name": "python3",
      "display_name": "Python 3"
    },
    "language_info": {
      "name": "python"
    }
  },
  "cells": [
    {
      "cell_type": "markdown",
      "metadata": {
        "id": "view-in-github",
        "colab_type": "text"
      },
      "source": [
        "<a href=\"https://colab.research.google.com/github/PeriBerba/Numerical-Methods/blob/main/Demo_1.ipynb\" target=\"_parent\"><img src=\"https://colab.research.google.com/assets/colab-badge.svg\" alt=\"Open In Colab\"/></a>"
      ]
    },
    {
      "cell_type": "code",
      "metadata": {
        "colab": {
          "base_uri": "https://localhost:8080/"
        },
        "id": "IASceRJ9ivy5",
        "outputId": "81a1a55e-93a3-4fe2-b6ad-97ea942d28d9"
      },
      "source": [
        "x = \"enjoying\"\n",
        "print(\"Python programming is \" + x )\n"
      ],
      "execution_count": null,
      "outputs": [
        {
          "output_type": "stream",
          "text": [
            "Python programming is enjoying\n"
          ],
          "name": "stdout"
        }
      ]
    },
    {
      "cell_type": "code",
      "metadata": {
        "colab": {
          "base_uri": "https://localhost:8080/"
        },
        "id": "yO9-KvOui0SM",
        "outputId": "e64619ee-d8db-4c65-f1ef-489072301c56"
      },
      "source": [
        "x = 1\n",
        "y = 2\n",
        "print(x+y)"
      ],
      "execution_count": null,
      "outputs": [
        {
          "output_type": "stream",
          "text": [
            "3\n"
          ],
          "name": "stdout"
        }
      ]
    },
    {
      "cell_type": "code",
      "metadata": {
        "colab": {
          "base_uri": "https://localhost:8080/"
        },
        "id": "wncy9Ayni3NN",
        "outputId": "d1810758-7206-46d7-b499-7d40d79fe6e5"
      },
      "source": [
        "x = 3\n",
        "y = 4\n",
        "sum= x+y\n",
        "sum"
      ],
      "execution_count": null,
      "outputs": [
        {
          "output_type": "execute_result",
          "data": {
            "text/plain": [
              "7"
            ]
          },
          "metadata": {},
          "execution_count": 3
        }
      ]
    },
    {
      "cell_type": "code",
      "metadata": {
        "colab": {
          "base_uri": "https://localhost:8080/"
        },
        "id": "l15e1qfIi3Vc",
        "outputId": "23dee576-2731-4bb0-bee1-a7e6dd490df7"
      },
      "source": [
        "a,b,c=0,-1,5\n",
        "c%=2 \n",
        "c"
      ],
      "execution_count": null,
      "outputs": [
        {
          "output_type": "execute_result",
          "data": {
            "text/plain": [
              "1"
            ]
          },
          "metadata": {},
          "execution_count": 4
        }
      ]
    },
    {
      "cell_type": "code",
      "metadata": {
        "colab": {
          "base_uri": "https://localhost:8080/"
        },
        "id": "CVzOSisJi3cD",
        "outputId": "17478043-efbf-41e3-a046-2fb9931f9e36"
      },
      "source": [
        "x = 3\n",
        "y = 5\n",
        "compare = y>x\n",
        "print(compare)"
      ],
      "execution_count": null,
      "outputs": [
        {
          "output_type": "stream",
          "text": [
            "True\n"
          ],
          "name": "stdout"
        }
      ]
    },
    {
      "cell_type": "code",
      "metadata": {
        "colab": {
          "base_uri": "https://localhost:8080/"
        },
        "id": "IVcIWXC8i3gj",
        "outputId": "fd721c1a-510a-4160-8838-5533003e4303"
      },
      "source": [
        "E = 2\n",
        "A = 3\n",
        "Compare= E<A\n",
        "print(Compare)"
      ],
      "execution_count": null,
      "outputs": [
        {
          "output_type": "stream",
          "text": [
            "True\n"
          ],
          "name": "stdout"
        }
      ]
    },
    {
      "cell_type": "code",
      "metadata": {
        "colab": {
          "base_uri": "https://localhost:8080/"
        },
        "id": "P0wNgMumi3jf",
        "outputId": "78f23d9d-5adf-4ef0-80c6-dda2d2568cad"
      },
      "source": [
        "A = 4\n",
        "B = 2\n",
        "print(A + B)"
      ],
      "execution_count": null,
      "outputs": [
        {
          "output_type": "stream",
          "text": [
            "6\n"
          ],
          "name": "stdout"
        }
      ]
    },
    {
      "cell_type": "code",
      "metadata": {
        "colab": {
          "base_uri": "https://localhost:8080/"
        },
        "id": "DsbbXj00i3mM",
        "outputId": "cfc1401a-ca52-4085-b4d7-8fb82c5fa820"
      },
      "source": [
        "H = 12\n",
        "L = 54\n",
        "R = 63\n",
        "print(H + L + R)"
      ],
      "execution_count": null,
      "outputs": [
        {
          "output_type": "stream",
          "text": [
            "129\n"
          ],
          "name": "stdout"
        }
      ]
    }
  ]
}