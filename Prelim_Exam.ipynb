{
  "nbformat": 4,
  "nbformat_minor": 0,
  "metadata": {
    "colab": {
      "name": "Prelim Exam.ipynb",
      "provenance": [],
      "authorship_tag": "ABX9TyPq4FyTVpzyJVqgkLPASjK+",
      "include_colab_link": true
    },
    "kernelspec": {
      "name": "python3",
      "display_name": "Python 3"
    },
    "language_info": {
      "name": "python"
    }
  },
  "cells": [
    {
      "cell_type": "markdown",
      "metadata": {
        "id": "view-in-github",
        "colab_type": "text"
      },
      "source": [
        "<a href=\"https://colab.research.google.com/github/PeriBerba/Numerical-Methods/blob/main/Prelim_Exam.ipynb\" target=\"_parent\"><img src=\"https://colab.research.google.com/assets/colab-badge.svg\" alt=\"Open In Colab\"/></a>"
      ]
    },
    {
      "cell_type": "markdown",
      "metadata": {
        "id": "ICJ8SLWGSQoA"
      },
      "source": [
        "Prelim Exam"
      ]
    },
    {
      "cell_type": "markdown",
      "metadata": {
        "id": "4t-jJEcASWtQ"
      },
      "source": [
        "Peri Julian L. Berba\n",
        "\n",
        "201911370\n",
        "\n"
      ]
    },
    {
      "cell_type": "code",
      "metadata": {
        "colab": {
          "base_uri": "https://localhost:8080/"
        },
        "id": "5f7XPthqP98y",
        "outputId": "3e9ad286-84ff-4b16-d476-7d2fea6b9e66"
      },
      "source": [
        "import numpy as np\n",
        "A= np.array([[1,2,3],[2,3,3],[3,4,-2]])\n",
        "print (A)\n",
        "print (np.linalg.det(A))\n",
        "print (round(np.linalg.det(A)))"
      ],
      "execution_count": 1,
      "outputs": [
        {
          "output_type": "stream",
          "name": "stdout",
          "text": [
            "[[ 1  2  3]\n",
            " [ 2  3  3]\n",
            " [ 3  4 -2]]\n",
            "5.000000000000001\n",
            "5\n"
          ]
        }
      ]
    }
  ]
}