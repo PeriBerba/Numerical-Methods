{
  "nbformat": 4,
  "nbformat_minor": 0,
  "metadata": {
    "colab": {
      "name": "PythonExercise1.ipynb",
      "provenance": [],
      "collapsed_sections": [],
      "authorship_tag": "ABX9TyNEuFz6+125ek+LrnxlhS8H",
      "include_colab_link": true
    },
    "kernelspec": {
      "name": "python3",
      "display_name": "Python 3"
    },
    "language_info": {
      "name": "python"
    }
  },
  "cells": [
    {
      "cell_type": "markdown",
      "metadata": {
        "id": "view-in-github",
        "colab_type": "text"
      },
      "source": [
        "<a href=\"https://colab.research.google.com/github/PeriBerba/Numerical-Methods/blob/main/PythonExercise1.ipynb\" target=\"_parent\"><img src=\"https://colab.research.google.com/assets/colab-badge.svg\" alt=\"Open In Colab\"/></a>"
      ]
    },
    {
      "cell_type": "code",
      "metadata": {
        "colab": {
          "base_uri": "https://localhost:8080/"
        },
        "id": "o12KV3zLme6C",
        "outputId": "bb94533d-f6c9-44d5-c661-0764ea222701"
      },
      "source": [
        "data = {}\n",
        "def login():\n",
        "    \n",
        "        Name = input(\"Enter your Name :\")\n",
        "        Name_Full = Name.replace(' ', '_')\n",
        "        Course = input(\"Enter your Course {} :\".format(Name))\n",
        "        Course_Full = Course.replace(' ', '_')\n",
        "        Prelim = float(input(\"Enter Prelim Grade: \"))\n",
        "        Midterm = float(input(\"Enter Midterm Grade: \"))\n",
        "        Final = float(input(\"Enter Final Grade: \"))\n",
        "        print ('This is your Semestral grade') \n",
        "       \n",
        "        Final_Average = (float(Prelim) + float(Midterm)+float(Final)) / 3\n",
        "        Final_Average_Round = round(Final_Average, 2)\n",
        "\n",
        "        Happy = ('\\U0001F600')\n",
        "        Laugh = ('\\U0001F606')\n",
        "        Sad = (\"\\U0001F62D\")\n",
        "        if Final_Average > 70:\n",
        "                result = Happy\n",
        "        elif Final_Average == 70:\n",
        "                result = Laugh\n",
        "        else:\n",
        "                result = Sad\n",
        "\n",
        "        Prelim_str = str(Prelim).split()\n",
        "        Midterm_str= str(Midterm).split()\n",
        "        Final_str  = str(Final).split()\n",
        "        Final_Average_str = str(Final_Average_Round).split()\n",
        "        Name_Full_str = str(Name_Full).split()\n",
        "        Course_Full_str = str(Course_Full).split()\n",
        "\n",
        "        Name_key = Name_Full_str[0]\n",
        "        Course_key = Course_Full_str[0]\n",
        "        Prelim_key = Prelim_str[0]\n",
        "        Midterm_key = Midterm_str[0]\n",
        "        Final_key = Final_str[0]\n",
        "        Final_Average_key = Final_Average_str[0]\n",
        "        emoji_key = result[0]\n",
        "\n",
        "        data [\" 1:Name:                 \" + Name_key] = \\\n",
        "        {\n",
        "                2:\"Course:               \" + Course_key.upper(),\n",
        "                3:\"Prelim Grade:         \" + Prelim_key,\n",
        "                4:\"Midterm Grade:        \" + Midterm_key,\n",
        "                5:\"Final Grade:          \" + Final_key,\n",
        "                6:\"Final Average:        \" + Final_Average_key,\n",
        "                7:'Result:               ' + emoji_key\n",
        "      }\n",
        "        for tab in data:\n",
        "                print(tab)\n",
        "                for tabs in data[tab]:\n",
        "                        print(tabs, \":\", data[tab][tabs])\n",
        "       \n",
        "login()"
      ],
      "execution_count": null,
      "outputs": [
        {
          "output_type": "stream",
          "text": [
            "Enter your Name :Peri Berba\n",
            "Enter your Course Peri Berba :CPE\n",
            "Enter Prelim Grade: 86\n",
            "Enter Midterm Grade: 87\n",
            "Enter Final Grade: 91\n",
            "This is your Semestral grade\n",
            " 1:Name:                 Peri_Berba\n",
            "2 : Course:               CPE\n",
            "3 : Prelim Grade:         86.0\n",
            "4 : Midterm Grade:        87.0\n",
            "5 : Final Grade:          91.0\n",
            "6 : Final Average:        88.0\n",
            "7 : Result:               😀\n"
          ],
          "name": "stdout"
        }
      ]
    }
  ]
}