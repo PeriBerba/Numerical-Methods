{
  "nbformat": 4,
  "nbformat_minor": 0,
  "metadata": {
    "colab": {
      "name": "Matrix Algebra",
      "provenance": [],
      "authorship_tag": "ABX9TyN5nRClQe9MgAsCeqrvUYQt",
      "include_colab_link": true
    },
    "kernelspec": {
      "name": "python3",
      "display_name": "Python 3"
    },
    "language_info": {
      "name": "python"
    }
  },
  "cells": [
    {
      "cell_type": "markdown",
      "metadata": {
        "id": "view-in-github",
        "colab_type": "text"
      },
      "source": [
        "<a href=\"https://colab.research.google.com/github/PeriBerba/Numerical-Methods/blob/main/Matrix_Algebra.ipynb\" target=\"_parent\"><img src=\"https://colab.research.google.com/assets/colab-badge.svg\" alt=\"Open In Colab\"/></a>"
      ]
    },
    {
      "cell_type": "markdown",
      "metadata": {
        "id": "KWYxEQL4UVGw"
      },
      "source": [
        "#Matrix and its Operation"
      ]
    },
    {
      "cell_type": "code",
      "metadata": {
        "colab": {
          "base_uri": "https://localhost:8080/"
        },
        "id": "XEsXmVWoT3Wx",
        "outputId": "ecda48ce-4c80-4e7b-c9c3-1971a6543bc0"
      },
      "source": [
        "import numpy as np \n",
        "A= np.array([1,2,3]) #THIS IS 1 x 3 ARRAY\n",
        "A[0]=4\n",
        "print (A)\n"
      ],
      "execution_count": 10,
      "outputs": [
        {
          "output_type": "stream",
          "name": "stdout",
          "text": [
            "[4 2 3]\n"
          ]
        }
      ]
    },
    {
      "cell_type": "code",
      "metadata": {
        "colab": {
          "base_uri": "https://localhost:8080/"
        },
        "id": "wFQgrco8VI6g",
        "outputId": "0f904f32-e3fd-4bb0-ce3d-8dacbc1a7a21"
      },
      "source": [
        "import numpy as np \n",
        "B= np.array([[1,2,3],[4,5,6]]) #THIS IS 2 x 3 ARRAY\n",
        "B[0,0]=7\n",
        "print (B)"
      ],
      "execution_count": 9,
      "outputs": [
        {
          "output_type": "stream",
          "name": "stdout",
          "text": [
            "[[7 2 3]\n",
            " [4 5 6]]\n"
          ]
        }
      ]
    },
    {
      "cell_type": "code",
      "metadata": {
        "colab": {
          "base_uri": "https://localhost:8080/"
        },
        "id": "p8p_hbeIXRO_",
        "outputId": "a2067d71-aa6e-46d6-809b-f601cff47415"
      },
      "source": [
        "import numpy as np \n",
        "C= np.array([[1,2,3],[4,5,6],[7,8,9]]) #THIS IS AN EXAMPLE OF SQUARE MATRIX\n",
        "print (C)"
      ],
      "execution_count": 11,
      "outputs": [
        {
          "output_type": "stream",
          "name": "stdout",
          "text": [
            "[[1 2 3]\n",
            " [4 5 6]\n",
            " [7 8 9]]\n"
          ]
        }
      ]
    },
    {
      "cell_type": "code",
      "metadata": {
        "colab": {
          "base_uri": "https://localhost:8080/"
        },
        "id": "aSBGJOMqXq3o",
        "outputId": "abc49701-270d-4193-eeff-a2c98a4e1ce6"
      },
      "source": [
        "import numpy as np\n",
        "D= np.full((2,2),7) \n",
        "print (D)"
      ],
      "execution_count": 13,
      "outputs": [
        {
          "output_type": "stream",
          "name": "stdout",
          "text": [
            "[[7 7]\n",
            " [7 7]]\n"
          ]
        }
      ]
    },
    {
      "cell_type": "code",
      "metadata": {
        "colab": {
          "base_uri": "https://localhost:8080/"
        },
        "id": "Gf9VzrHXYKY3",
        "outputId": "f36b6f06-c347-4a34-e503-da68b8e26285"
      },
      "source": [
        "import numpy as np\n",
        "E= np.eye(2)\n",
        "print (E)"
      ],
      "execution_count": 15,
      "outputs": [
        {
          "output_type": "stream",
          "name": "stdout",
          "text": [
            "[[1. 0.]\n",
            " [0. 1.]]\n"
          ]
        }
      ]
    },
    {
      "cell_type": "code",
      "metadata": {
        "colab": {
          "base_uri": "https://localhost:8080/"
        },
        "id": "sR7XnwAiY9fg",
        "outputId": "1518a53f-4003-41ad-8658-dcaee0ed10af"
      },
      "source": [
        "import numpy as np\n",
        "E= np.diagonal([[1,2,3],[4,5,6],[7,8,9]])\n",
        "print (E)"
      ],
      "execution_count": 16,
      "outputs": [
        {
          "output_type": "stream",
          "name": "stdout",
          "text": [
            "[1 5 9]\n"
          ]
        }
      ]
    },
    {
      "cell_type": "code",
      "metadata": {
        "colab": {
          "base_uri": "https://localhost:8080/"
        },
        "id": "JcumulL7Zx1P",
        "outputId": "b93e5176-18ee-4bb9-a40c-454a5a6fa949"
      },
      "source": [
        "import numpy as np\n",
        "F= np.empty ((0,10))\n",
        "print (F)"
      ],
      "execution_count": 17,
      "outputs": [
        {
          "output_type": "stream",
          "name": "stdout",
          "text": [
            "[]\n"
          ]
        }
      ]
    },
    {
      "cell_type": "code",
      "metadata": {
        "colab": {
          "base_uri": "https://localhost:8080/"
        },
        "id": "LTaV021IaAGH",
        "outputId": "2269fede-7044-4cf6-dcd0-990d7842c318"
      },
      "source": [
        "import numpy as np\n",
        "G= np.zeros((2,2))\n",
        "print (G)"
      ],
      "execution_count": 18,
      "outputs": [
        {
          "output_type": "stream",
          "name": "stdout",
          "text": [
            "[[0. 0.]\n",
            " [0. 0.]]\n"
          ]
        }
      ]
    },
    {
      "cell_type": "code",
      "metadata": {
        "colab": {
          "base_uri": "https://localhost:8080/"
        },
        "id": "Op6yw0S8aZOR",
        "outputId": "48f1f01d-d6de-40cb-fc3d-d9f124c155c6"
      },
      "source": [
        "import numpy as np\n",
        "E= np.eye(2)\n",
        "G= np.zeros((2,2))\n",
        "print (E)\n",
        "print (G)\n",
        "print (E+G)#this is the code to get the summation of matrices E and G\n",
        "print (E-G)#this is the code to get the difference of matrices E and G\n",
        "print (G-E)"
      ],
      "execution_count": 24,
      "outputs": [
        {
          "output_type": "stream",
          "name": "stdout",
          "text": [
            "[[1. 0.]\n",
            " [0. 1.]]\n",
            "[[0. 0.]\n",
            " [0. 0.]]\n",
            "[[1. 0.]\n",
            " [0. 1.]]\n",
            "[[1. 0.]\n",
            " [0. 1.]]\n",
            "[[-1.  0.]\n",
            " [ 0. -1.]]\n"
          ]
        }
      ]
    }
  ]
}